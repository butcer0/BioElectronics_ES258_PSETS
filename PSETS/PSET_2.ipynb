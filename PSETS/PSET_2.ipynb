{
 "cells": [
  {
   "cell_type": "markdown",
   "metadata": {},
   "source": [
    "<p style=\"text-align: center; font-weight: bold; font-size: 16pt;font-family: \"Computer Modern\", sans-serif\">Problem Set 2 </p> \n",
    "<p style=\"text-align: right; font-size: 12pt; font-family: \"Computer Modern\", sans-serif\">Erik Butcher</p>"
   ]
  },
  {
   "cell_type": "markdown",
   "metadata": {},
   "source": [
    "#### Q.1 \n",
    "\\begin{align}\n",
    "E = E^o + \\frac{RT}{nF}ln\\Bigl(\\frac{[Ox]}{[R]}\\Bigr)= E^o + \\frac{0.059}{n}log_{10}\\Bigl(\\frac{[Ox]}{[R]}\\Bigr) \\\\ \\; \\\\\n",
    "Fe^{3+} + e^- \\rightarrow Fe^{2+} & \\Leftarrow \\boxed{ \\texttt{Gain of electron - Reduction}} \\\\ \\; \\\\\n",
    "[Re] + e^- \\rightarrow [Ox] \\\\ \\; \\\\\n",
    "Answer \\;(both \\; valid): \\\\\n",
    "\\boldsymbol{ c) \\;\\; E = E^o + \\frac{0.059}{n}ln\\Bigl(\\frac{[Fe^{3+}]}{[Fe^{2+}]}\\Bigr)} \\\\ \\; \\\\\n",
    "\\boldsymbol{ d) \\;\\; E = E^o - \\frac{0.059}{n}ln\\Bigl(\\frac{[Fe^{2+}]}{[Fe^{3+}]}\\Bigr)} \n",
    "\\end{align}"
   ]
  },
  {
   "cell_type": "markdown",
   "metadata": {},
   "source": [
    "#### Q.2\n",
    "\\begin{align*}\n",
    "E_{probe} = K + 0.059\\cdot log[F^-] \\\\ \\; \\\\\n",
    "E_{probe} = V\\cdot q & \\Leftarrow \\boxed{ \\texttt{charge ratiometric, so regarded q as 1}} \\\\ \\; \\\\\n",
    "V_0 = K + 0.059\\cdot log[F^-] \\\\ \\; \\\\\n",
    "0.112V = K + 0.059\\cdot log[0.01] \\\\ \\; \\\\\n",
    "0.112V = K - 0.059 & \\Leftarrow \\boxed{ \\texttt{K = 0.23V}} \\\\ \\; \\\\\n",
    "V_t = K + 0.059\\cdot log[F^-_t] \\\\ \\; \\\\ \n",
    "0.203V = 0.23V + 0.059\\cdot log[F^-_t] \\\\ \\; \\\\\n",
    "-0.027 = 0.059\\cdot log[F^-_t] \\\\ \\; \\\\\n",
    "Answer: \\\\\n",
    "\\boldsymbol{[F^-_t] = 0.35M}\n",
    "\\end{align*} "
   ]
  },
  {
   "cell_type": "markdown",
   "metadata": {
    "pycharm": {
     "name": "#%% md\n"
    }
   },
   "source": [
    "#### Q.3"
   ]
  },
  {
   "cell_type": "code",
   "execution_count": 94,
   "outputs": [],
   "source": [
    "import numpy as np;\n",
    "import pylab as plt;\n",
    "from scipy.integrate import odeint;\n",
    "\n",
    "# conversion constants\n",
    "nA = 1e9; us = 1e-6; MOhms = 1e6; pF = 1e-12; mV = 1e-3; mS = 1e-3"
   ],
   "metadata": {
    "collapsed": false,
    "pycharm": {
     "name": "#%%\n",
     "is_executing": false
    }
   }
  },
  {
   "cell_type": "code",
   "execution_count": null,
   "outputs": [
    {
     "data": {
      "text/plain": "Text(0, 0.5, 'x')"
     },
     "metadata": {},
     "output_type": "execute_result",
     "execution_count": 95
    }
   ],
   "source": [
    "dt = 10e-6 # 10 us\n",
    "t_max = 1 # seconds\n",
    "time = np.arange(0, t_max, dt)\n",
    "R_m = 50e6 # 50 MOhms Membrane Resistance\n",
    "C_m = 200e-12 # 200 pF Membrane capacitance\n",
    "V_e = -70e-3 # -70 mV Equilibrium voltage\n",
    "V_reset = -80e-3 # -80 mV Hyperpolarization/reset voltage\n",
    "V_th = -40e-3 # -40 mV Threshold voltage\n",
    "Input_Is = np.asarray([100e-12, 1e-9, 10e-9]) # Input currents\n",
    "\n",
    "def voltageModel(dt, R_m, C_m, V_e, V_reset, V_th, Input_Is):\n",
    "    V_m = np.zeros(time.shape)\n",
    "    V_m[0] = V_e\n",
    "   \n",
    "    for i in range(1, V_m.shape[0]):   \n",
    "        dV = dt * (-1/R_m * (V_m[i-1]-V_e) + Input_Is)/C_m\n",
    "        V_m[i] = V_m[i-1] + dV\n",
    "        \n",
    "        if V_m[i-1] >= V_th:\n",
    "            V_m[i] = V_reset\n",
    "            \n",
    "    return V_m\n",
    "\n",
    "plt.figure(1, figsize=(15,10))\n",
    "for I in range(Input_Is.shape[0]):\n",
    "    plt.subplot(3, 1, I+1)\n",
    "    plt.plot(time, voltageModel(dt, R_m, C_m, V_e, V_reset, V_th, Input_Is[I]))\n",
    "    plt.ylabel('V')\n",
    "    plt.xticks(np.arange(0, t_max, 0.005))\n",
    "    \n",
    "plt.xlim((0,0.05))\n",
    "\n",
    "plt.xlabel('time (x)')\n",
    "plt.ylabel('x')"
   ],
   "metadata": {
    "collapsed": false,
    "pycharm": {
     "name": "#%%\n",
     "is_executing": true
    }
   }
  },
  {
   "cell_type": "markdown",
   "source": [
    "#### Q3 - Part 2"
   ],
   "metadata": {
    "collapsed": false
   }
  },
  {
   "cell_type": "code",
   "execution_count": null,
   "outputs": [],
   "source": [
    "T_ref = 3e-3 # 3 mS Refractory time\n",
    "R_m = 50e6 # 50 MOhms Membrane Resistance\n",
    "C_m = 200e-12 # 200 pF Membrane capacitance\n",
    "V_e = -70e-3 # -70 mV Equilibrium voltage\n",
    "V_reset = -80e-3 # -80 mV Hyperpolarization/reset voltage\n",
    "V_th = -40e-3 # -40 mV Voltage threshold\n",
    "\n",
    "def frequencyModel(T_ref, R_m, C_m, V_e, V_reset, V_th, I):\n",
    "    Ith = (V_th - V_e)/R_m\n",
    "    if I < Ith:\n",
    "        return 0\n",
    "    \n",
    "    f = 1/(T_ref + R_m*C_m*np.log((I*R_m+V_e-V_reset)/(I*R_m+V_e-V_th)))\n",
    "    \n",
    "    return f\n",
    "\n",
    "I = np.arange(0, 10e-9, 100e-12)\n",
    "f_calc = np.zeros(I.shape[0])\n",
    "\n",
    "nAf = lambda a: a*nA\n",
    "\n",
    "for i in range(f_calc.shape[0]):\n",
    "    f_calc[i] = frequencyModel(T_ref, R_m, C_m, V_e, V_reset, V_th, I[i])\n",
    "\n",
    "plt.plot(I*nA,f_calc) # convert to nanoamps\n",
    "plt.xlabel(\"I (nA)\")"
   ],
   "metadata": {
    "collapsed": false,
    "pycharm": {
     "name": "#%%\n",
     "is_executing": true
    }
   }
  },
  {
   "cell_type": "code",
   "execution_count": null,
   "outputs": [],
   "source": [
    "dt = 10e-6\n",
    "t_max = 1\n",
    "time = np.arange(0, t_max, dt)\n",
    "\n",
    "def spikeIFModel(dt, R_m, C_m, V_e, V_reset, V_th, Input_Is):\n",
    "    V_m = np.zeros(time.shape)\n",
    "    Spike_count = 0 \n",
    "    V_m[0] = V_e\n",
    "    # Let's figure out dV\n",
    "    for i in range(1, V_m.shape[0]):   #[0] length of it\n",
    "        dV = dt * (-1/R_m * (V_m[i-1]-V_e) + Input_Is)/C_m\n",
    "        V_m[i] = V_m[i-1] + dV\n",
    "       \n",
    "        if V_m[i-1] >= V_th:\n",
    "            V_m[i] = V_reset\n",
    "            Spike_count += 1\n",
    "\n",
    "    return Spike_count\n",
    "\n",
    "f_sim = np.zeros(I.shape[0])\n",
    "for i in range(I.shape[0]):\n",
    "    f_sim[i] = spikeIFModel(dt, R_m, C_m, V_e, V_reset, V_th, I[i])\n",
    "\n",
    "plt.plot(I*1e9, f_calc)\n",
    "plt.plot(I*1e9, f_sim)\n",
    "plt.xlabel(\"I (nA)\")"
   ],
   "metadata": {
    "collapsed": false,
    "pycharm": {
     "name": "#%%\n",
     "is_executing": true
    }
   }
  },
  {
   "cell_type": "code",
   "execution_count": null,
   "outputs": [],
   "source": [
    "# Part 4\n",
    "dt = 10e-6\n",
    "t_max = 10\n",
    "time = np.arange(0, t_max, dt)\n",
    "T_ref = 3e-3 # Refactory time\n",
    "R_m = 50e6 # 50 MOhms Membrane Resistance\n",
    "C_m = 200e-12 # 200 pF Membrane capacitance\n",
    "V_e = -70e-3 # -70 mV Equilibrium voltage\n",
    "V_reset = -80e-3 # -80 mV Hyperpolarization/reset voltage\n",
    "V_th = -40e-3\n",
    "\n",
    "def gaussSpikeIFModel(dt, R_m, C_m, V_e, V_reset, V_th, Isigma):\n",
    "    V_m = np.zeros(time.shape)\n",
    "    Imean = 1000e-12\n",
    "    Inoisy = np.random.normal(Imean, Isigma, (time.shape[0], 1))\n",
    "    Spike_count = 0\n",
    "    V_m[0] = V_e \n",
    "    #Let's figure out d\n",
    "    spikes = []\n",
    "    last_spike_idx = 0    \n",
    "    for i in range(1, V_m.shape[0]):\n",
    "        dV = dt* (-1/R_m * (V_m[i-1]-V_e) + Inoisy[i])/C_m\n",
    "        V_m[i] = V_m[i-1] + dV\n",
    "        \n",
    "        if V_m[i-1] >= V_th:\n",
    "            V_m[i] = V_reset\n",
    "            spikes.append((i-last_spike_idx)*dt) # times dt to get actual time in ms\n",
    "            last_spike_idx = i\n",
    "            \n",
    "    return np.asarray(spikes) # inter-spike periods\n",
    "    \n",
    "Input_Is = np.asarray([0, 100e-12, 500e-12])\n",
    "\n",
    "plt.figure(1, figsize=(15,10))\n",
    "\n",
    "for I in range(Input_Is.shape[0]):\n",
    "    plt.subplot(3, 1, I+1)\n",
    "    spikecounts = gaussSpikeIFModel(dt, R_m, C_m, V_e, V_reset, V_th, Input_Is[I])\n",
    "    print(spikecounts.shape[0])\n",
    "    plt.hist(spikecounts, bins=50, range=(0.010, 0.012))\n",
    "    # plt.title(\"I=\" + str(Input_Is[I]*1e9) + \"nA\")\n",
    "    plt.ylabel(\"Number\")\n",
    "\n",
    "plt.xlabel(\"Inter - Spike Period\")\n",
    "    "
   ],
   "metadata": {
    "collapsed": false,
    "pycharm": {
     "name": "#%%\n",
     "is_executing": true
    }
   }
  },
  {
   "cell_type": "code",
   "execution_count": null,
   "outputs": [],
   "source": [
    "Alpha_n = lambda V_m:0.01*(V_m+55)/(1-np.exp(-(V_m+55)/10))\n",
    "Alpha_m = lambda V_m: 0.1*(V_m+40)/(1-np.exp(-(V_m+40)/10))\n",
    "Alpha_h = lambda V_m: 0.07*np.exp(-(V_m+65)/20)\n",
    "\n",
    "Beta_n = lambda V_m: 0.125*np.exp(-(V_m+65)/80)\n",
    "Beta_m = lambda V_m: 4*np.exp(-(V_m+65)/18)\n",
    "Beta_h = lambda V_m: 1/(1+np.exp(-(V_m+35)/10))\n",
    "\n",
    "# Set up constants\n",
    "Cm = 1\n",
    "gk = 36\n",
    "gna = 120\n",
    "gl = 0.3\n",
    "Vna = 50\n",
    "Vk = -77\n",
    "Vl = -50\n",
    "V_e = -70\n",
    "\n",
    "#time step in ms\n",
    "# I = Cdv/dt + Ik + Ina + Il\n",
    "\n",
    "# dV/dt = 1/C_m * (I- (Ik + Ina + Il))\n",
    "Ik = lambda gk, n, V_m, Vk: gk*n**4*(V_m-Vk)\n",
    "Ina = lambda gna, m, h, V_m, Vna: gna*m**3*h*(V_m-Vna)\n",
    "Igl = lambda gl, V_m, Vl: gl*(V_m-Vl)\n",
    "\n",
    "m_inf = Alpha_m(V_e)/(Alpha_m(V_e)+Beta_m(V_e))\n",
    "h_inf = Alpha_h(V_e)/(Alpha_h(V_e)+Beta_h(V_e))\n",
    "n_inf = Alpha_n(V_e)/(Alpha_n(V_e)+Beta_n(V_e))\n",
    "\n",
    "dt = 1e-3\n",
    "time = np.arange(0,300,dt)\n",
    "\n",
    "def Vm_eq(X, time):\n",
    "    V_m, m, h, n = X\n",
    "    I = 10*((time>100) - (time>150) + (time > 200) - (time>250))\n",
    "    dVdt = 1/Cm * (I-Ik(gk, n, V_m, Vk) - Ina(gna, m, h, V_m, Vna) - Igl(gl, V_m, Vl))\n",
    "    dndt = Alpha_n(V_m)*(1-n)-Beta_n(V_m)*n\n",
    "    dmdt = Alpha_m(V_m)*(1-m)-Beta_m(V_m)*m\n",
    "    dhdt = Alpha_h(V_m)*(1-h)-Beta_h(V_m)*h\n",
    "    return dVdt, dmdt, dhdt, dndt\n",
    "\n",
    "def HH(time):\n",
    "    # X sets eqn variable, define init V_m, m, h, n\n",
    "    X = odeint(Vm_eq,  [V_e,  m_inf, h_inf, n_inf], time)\n",
    "    V = X[:,0]\n",
    "    return V\n",
    "\n",
    "plt.plot(time, HH(time))\n",
    "\n"
   ],
   "metadata": {
    "collapsed": false,
    "pycharm": {
     "name": "#%%\n",
     "is_executing": true
    }
   }
  }
 ],
 "metadata": {
  "kernelspec": {
   "display_name": "Python 3",
   "language": "python",
   "name": "python3"
  },
  "language_info": {
   "codemirror_mode": {
    "name": "ipython",
    "version": 3
   },
   "file_extension": ".py",
   "mimetype": "text/x-python",
   "name": "python",
   "nbconvert_exporter": "python",
   "pygments_lexer": "ipython3",
   "version": "3.7.6"
  },
  "pycharm": {
   "stem_cell": {
    "cell_type": "raw",
    "source": [],
    "metadata": {
     "collapsed": false
    }
   }
  }
 },
 "nbformat": 4,
 "nbformat_minor": 1
}