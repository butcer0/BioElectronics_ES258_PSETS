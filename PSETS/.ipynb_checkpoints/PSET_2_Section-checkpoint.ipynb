{
 "cells": [
  {
   "cell_type": "markdown",
   "metadata": {
    "pycharm": {
     "name": "#%% md\n"
    }
   },
   "source": [
    "# Question 3"
   ]
  },
  {
   "cell_type": "code",
   "execution_count": null,
   "metadata": {
    "collapsed": false,
    "jupyter": {
     "outputs_hidden": false
    },
    "pycharm": {
     "is_executing": false,
     "name": "#%% \n"
    }
   },
   "outputs": [],
   "source": [
    "import numpy as np\n",
    "import matplotlib as plt\n",
    "\n",
    "# part 1:\n",
    "\n",
    "# C dv/dt = - 1/Rm (Vm - Ve) + Im\n",
    "# dV = dt (-1/(R) (Vm-Ve) + Im)/C\n",
    "\n",
    "dt = 10e-6 # 10 us\n",
    "t_max = 10 # seconds\n",
    "\n",
    "t = np.arange(0, t_max, dt)\n",
    "\n",
    "R = 50e6 # 50 MOhms Membrane Resistance\n",
    "C = 200e-12 # 200 pF Membrane capacitance\n",
    "Ve = -70e-3 # -70 mV Equilibrium voltage\n",
    "Vreset = -80e-3 # -80 mV Hyperpolarization/reset voltage\n",
    "Vth = -40e-3\n",
    "Vm = np.zeroes()\n",
    "\n",
    "\n",
    "print(t, t.shape)\n",
    "\n",
    "Vm[0] = Ve\n",
    "\n",
    "print(Vm)\n",
    "\n",
    "def IF_Voltage(Vm, dt, R, C, Ve, Vreset, Vth, Im):\n",
    "    # Let's figure out dV\n",
    "    dV = dt *  (-1/R * (Vm-Ve) + Im)/C\n",
    "    \n",
    "    for i in range(Vm.shape[0]):   #[0] length of it\n",
    "        dV = dt * (-1/R * (Vm[i-1]-Ve) + Im)/C\n",
    "        Vm[i] = Vm[i-1] + dV\n",
    "        \n",
    "        if Vm[i-1] == Vth\n",
    "            Vm[i] = reset\n",
    "            \n",
    "    return Vm\n",
    "plt.figure(1)\n",
    "plt.plot(t, IF_Voltage(dt, R,C, Ve, Vreset, Vth, Im)"
   ]
  },
  {
   "cell_type": "code",
   "execution_count": null,
   "metadata": {},
   "outputs": [],
   "source": []
  }
 ],
 "metadata": {
  "kernelspec": {
   "display_name": "Python 3",
   "language": "python",
   "name": "python3"
  },
  "language_info": {
   "codemirror_mode": {
    "name": "ipython",
    "version": 2
   },
   "file_extension": ".py",
   "mimetype": "text/x-python",
   "name": "python",
   "nbconvert_exporter": "python",
   "pygments_lexer": "ipython2",
   "version": "2.7.6"
  },
  "pycharm": {
   "stem_cell": {
    "cell_type": "raw",
    "metadata": {
     "collapsed": false
    },
    "source": []
   }
  }
 },
 "nbformat": 4,
 "nbformat_minor": 4
}
