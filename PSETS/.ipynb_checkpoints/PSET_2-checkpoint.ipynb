{
 "cells": [
  {
   "cell_type": "markdown",
   "metadata": {},
   "source": [
    "<p style=\"text-align: center; font-weight: bold; font-size: 16pt;font-family: \"Computer Modern\", sans-serif\">Problem Set 2 </p> \n",
    "<p style=\"text-align: right; font-size: 12pt; font-family: \"Computer Modern\", sans-serif\">Erik Butcher</p>"
   ]
  },
  {
   "cell_type": "markdown",
   "metadata": {},
   "source": [
    "#### Q.1 \n",
    "\\begin{align}\n",
    "E = E^o + \\frac{RT}{nF}ln\\Bigl(\\frac{[Ox]}{[R]}\\Bigr)= E^o + \\frac{0.059}{n}log_{10}\\Bigl(\\frac{[Ox]}{[R]}\\Bigr) \\\\ \\; \\\\\n",
    "Fe^{3+} + e^- \\rightarrow Fe^{2+} & \\Leftarrow \\boxed{ \\texttt{Gain of electron - Reduction}} \\\\ \\; \\\\\n",
    "[Re] + e^- \\rightarrow [Ox] \\\\ \\; \\\\\n",
    "\\boldsymbol{ c) \\;\\; E = E^o + \\frac{0.059}{n}ln\\Bigl(\\frac{[Fe^{3+}]}{[Fe^{2+}]}\\Bigr)} \n",
    "\\end{align}"
   ]
  },
  {
   "cell_type": "markdown",
   "metadata": {},
   "source": [
    "#### Q.2\n",
    "\\begin{align*}\n",
    "V_{F_o^-} = \\frac{RT}{zF}ln\\Bigl(\\frac{[F^-]_{out_i}}{[F^-]_{in_i}}\\Bigr) = \\frac{RT}{zF}ln\\Bigl(\\frac{[F^-]_{out_i}}{[F^-]_{in_i}}\\Bigr) = 0.112V \\\\ \\; \\\\\n",
    "V_{F^-} = \\frac{RT}{zF}ln\\Bigl(\\frac{[F^-]_{out_f}}{[F^-]_{in_f}}\\Bigr) = \\frac{RT}{zF}ln\\Bigl(\\frac{[F^-]_{out_f}}{[F^-]_{in_f}}\\Bigr) = 0.203V \\\\ \\; \\\\\n",
    "-0.05916V = \\frac{RT}{zF} = \\frac{RT}{-1\\cdot F} = m \\\\ \\; \\\\\n",
    "m = \\frac{Y_2 - Y_1}{X_2-X_1} & \\Leftarrow \\boxed{ \\texttt{ Point Slope Formula}} \\\\ \\; \\\\\n",
    "-0.05916V = \\frac{(0.203V - 0.112V)}{(log([F^-]) - log(0.01M))} \\\\ \\; \\\\\n",
    "-0.65011\\cdot (log([F^-]) + 2M) = 1 \\\\ \\; \\\\\n",
    "log([F^-]) = 2.30022M \\\\ \\; \\\\\n",
    "\\boldsymbol{[F^-] = 0.00029M}\n",
    "\\end{align*} \n"
   ]
  },
  {
   "cell_type": "markdown",
   "metadata": {},
   "source": [
    "#### Q.3"
   ]
  },
  {
   "cell_type": "code",
   "execution_count": 3,
   "metadata": {
    "pycharm": {
     "is_executing": false,
     "name": "#%% \n"
    }
   },
   "outputs": [],
   "source": [
    "   \n",
    "# import pylab as plt\n",
    "# import numpy as np\n",
    "# import seaborn as sns\n",
    "# from scipy.integrate import odeint\n",
    "\n",
    "# class IntegrateAndFire():\n",
    "#     \"\"\"Standard Integrate-and-Fire Model\"\"\"\n",
    "#     _R_M = 50e6  # MO\n",
    "#     _C_M = 200e-12  # pF\n",
    "#     _V_E = -70e-3  # mV\n",
    "#     _V_TH = -40e-3  # mV\n",
    "#     _V_RESET = -80e-3  # mV\n",
    "#     _T_TOT = 10e-3 # mS\n",
    "#     _DELTA_T = 10e-6  # uS\n",
    "#     _T_REF = 3e-3  # mS\n",
    "#     _NUM_STEPS = 10000\n",
    "#     \n",
    "#     _I_Max = 10e-9\n",
    "#     _I_Step = 10e-12\n",
    "#     \n",
    "#     _spike_count = 0\n",
    "#     \n",
    "#     t = np.arange(0.0, _T_TOT, _DELTA_T)\n",
    "#     _I_m = None\n",
    "#     # i = np.arange(0.0, 10e-9, 100e-12)\n",
    "#     i_ss = lambda self, t: self._I_Max * (t / self._T_TOT) \n",
    "#     #i_ss going to be constant \n",
    "#     VMF = lambda self, v: (v % (self._V_TH - self._V_RESET)) * (self._V_TH - self._V_RESET) + self._V_RESET\n",
    "#     V_TO_mV = lambda self, v: v * 1e3\n",
    "#     \n",
    "#     def __init__(self, i_m=None):\n",
    "#         self._I_m = i_m\n",
    "# \n",
    "#     @staticmethod        \n",
    "#     def voltage_Model(vm, t, self):\n",
    "#         dVdt = self._V_RESET if vm > self._V_TH else (-1 * (1 / self._R_M) * (vm - self._V_E) + self._I_m / self._C_M)\n",
    "#         return dVdt\n",
    "#     \n",
    "#     @staticmethod \n",
    "#     def voltage_Model_Sweep(vm, t, self):\n",
    "#         if vm > self._V_TH:\n",
    "#             self._spike_count += 1\n",
    "#             vm = self._V_RESET\n",
    "#         dVdt = (-1 * (1 / self._R_M) * (self.VMF(vm) - self._V_E) + self.i_ss(t) / self._C_M)\n",
    "#         return dVdt\n",
    "# \n",
    "#     getVoltageModel = lambda self: odeint(self.voltage_Model, self._V_E, self.t, args=(self,))\n",
    "#     getVoltageModelSweep = lambda self: odeint(self.voltage_Model_Sweep, self._V_E, self.t, args=(self,))\n",
    "# \n",
    "#     #np. rand normal - for each time step\n",
    "#     #swept calculated fvalues from original equation and estimated or theoretical firing frequency from there\n",
    "#     #in threashold function - introduce spike counter\n",
    "#     # introduce histogram - make plot f(i) same parameters - look at peak interaval that function gives you\n",
    "#     getFrequencyModel = lambda self: odeint(self.frequency_Model, self._V_E, self.i, args=(self,))\n",
    "# \n",
    "# if __name__ == '__main__':\n",
    "#     plot_100pA, plot_1nA, plot_10nA = np.array(\n",
    "#         list(map(lambda i_m: (IntegrateAndFire(i_m).getVoltageModel())\n",
    "#                  , [100e-12, 1e-9, 10e-9])))\n",
    "# \n",
    "#     plot_sweep_I = IntegrateAndFire().getVoltageModelSweep()\n",
    "#     \n",
    "#     sns.set_style(\"darkgrid\")\n",
    "#     plt.figure()\n",
    "#     plt.subplot(4, 1, 1)\n",
    "#     plt.title('Leaky Integrate and Fire')\n",
    "#     plt.plot(IntegrateAndFire.t, plot_100pA, 'r')\n",
    "#     plt.ylabel('$V (mV)$')\n",
    "#     plt.xlabel('$t (s)$')\n",
    "#     plt.grid()\n",
    "#     \n",
    "#     plt.subplot(4, 1, 2)\n",
    "#     plt.plot(IntegrateAndFire.t, plot_1nA, 'g')\n",
    "#     plt.ylabel('$V (mV)$')\n",
    "#     plt.xlabel('$t (s)$')\n",
    "#     plt.grid()\n",
    "# \n",
    "#     plt.subplot(4, 1, 3)\n",
    "#     plt.plot(IntegrateAndFire.t, plot_10nA, 'b')\n",
    "#     plt.ylabel('${V} \\;(mV)$')\n",
    "#     plt.xlabel('$t (s)$')\n",
    "#     plt.grid()\n",
    "# \n",
    "#     plt.subplot(4, 1, 4)\n",
    "#     plt.plot(IntegrateAndFire.t, plot_sweep_I, 'b')\n",
    "#     plt.ylabel('${V} \\;(mV)$')\n",
    "#     plt.xlabel('t (s)')\n",
    "#     plt.grid()\n",
    "#     plt.show()"
   ]
  },
  {
   "cell_type": "markdown",
   "metadata": {
    "pycharm": {
     "name": "#%% md\n"
    }
   },
   "source": [
    "#### Q.4"
   ]
  },
  {
   "cell_type": "code",
   "execution_count": 9,
   "metadata": {
    "pycharm": {
     "is_executing": false,
     "name": "#%%\n"
    }
   },
   "outputs": [
    {
     "data": {
      "image/png": "[encoded data removed]",
      "text/plain": [
       "<Figure size 432x288 with 1 Axes>"
      ]
     },
     "metadata": {
      "needs_background": "light"
     },
     "output_type": "display_data"
    },
    {
     "data": {
      "image/png": "[encoded data removed]",
      "text/plain": [
       "<Figure size 432x288 with 4 Axes>"
      ]
     },
     "metadata": {
      "needs_background": "light"
     },
     "output_type": "display_data"
    }
   ],
   "source": [
    "import pylab as plt\n",
    "import numpy as np\n",
    "from scipy.integrate import odeint\n",
    "\n",
    "_V_E = -70  # mV\n",
    "V_m_0 = _V_E # mV\n",
    "_Cm = 200e-9  # in uF\n",
    "_gK = 36.0  # mS\n",
    "_gNA = 120.0  # mS\n",
    "_gL = 0.3  # mS\n",
    "_V_Na = 50  # mV\n",
    "_V_K = -77 # mV\n",
    "_V_L = -50 # mV\n",
    "t = np.linspace(0.0, 50.0, 10000)\n",
    "\n",
    "currentAdjust = 10\n",
    "\n",
    "def i_ssf(t):\n",
    "        if 0.0 < t < 1.0:\n",
    "            return 150.0/currentAdjust\n",
    "        elif 10.0 < t < 11.0:\n",
    "            return 50.0/currentAdjust\n",
    "        elif 20.0 < t < 21.0:\n",
    "            return 150.0/currentAdjust\n",
    "        elif 30.0 < t < 31.0:\n",
    "            return 50.0/currentAdjust\n",
    "        elif 40.0 < t < 41.0:\n",
    "            return 150.0/currentAdjust\n",
    "        elif 50.0 < t < 51.0:\n",
    "            return 50.0/currentAdjust\n",
    "        return 0.0\n",
    "\n",
    "def alphaNf(Vm):\n",
    "    return (0.01 * (10.0 - Vm)) / (np.exp((10.0 - Vm) / 10.0) - 1.0)\n",
    "\n",
    "def alphaMf(Vm):\n",
    "    return 0.1 * (25.0 - Vm) / (np.exp((25.0 - Vm) / 10.0)) - 1.0\n",
    "\n",
    "def alphaHf(Vm):\n",
    "    return 0.07 * np.exp((-1.0 * Vm) / 20.0)\n",
    "\n",
    "def betaNf(Vm):\n",
    "    return 0.125 * np.exp((-1.0 * Vm) / 80.0)\n",
    "    \n",
    "def betaMf(Vm):\n",
    "    return 4.0 * np.exp((-1.0 * Vm) / 18.0)\n",
    "    \n",
    "def betaHf(Vm):\n",
    "    return 1.0 / (np.exp((30.0 - Vm) / 10.0) + 1.0)\n",
    "    \n",
    "def model(z, t):\n",
    "    dS = np.zeros(4)\n",
    "    Vm = z[0]\n",
    "    n = z[1]\n",
    "    m = z[2]\n",
    "    h = z[3]\n",
    "    dS[0] = (i_ssf(t) - ((_gK * n**4 * (Vm - _V_K)) + (_gNA * m**3 * h * (Vm- _V_Na)) + (_gL * (Vm - _V_L)))) / _Cm\n",
    "    dS[1] = alphaNf(Vm) * (1.0 - n) - betaNf(Vm) * n\n",
    "    dS[2] = alphaMf(Vm) * (1.0 - m) - betaMf(Vm) * m\n",
    "    dS[3] = alphaHf(Vm) * (1.0 - h) - betaHf(Vm) * h\n",
    "    return dS\n",
    "\n",
    "z0 = np.array([0.0, (1.0 + alphaNf(V_m_0)/betaNf(V_m_0)), (1.0 + alphaMf(V_m_0)/betaMf(V_m_0)), (1.0 + alphaHf(V_m_0)/betaHf(V_m_0))])\n",
    "s = odeint(model, z0, t)\n",
    "plt.plot(t, s[:,0])\n",
    "\n",
    "plt.figure()\n",
    "plt.subplot(4, 1, 1)\n",
    "plt.title('Leaky Integrate and Fire')\n",
    "plt.plot(t, s[:,0], 'r')\n",
    "plt.ylabel('$V (mV)$')\n",
    "plt.xlabel('$t (s)$')\n",
    "plt.grid()\n",
    "\n",
    "plt.subplot(4, 1, 2)\n",
    "plt.plot(t, s[:,1], 'g')\n",
    "plt.ylabel('$V (mV)$')\n",
    "plt.xlabel('$t (s)$')\n",
    "plt.grid()\n",
    "\n",
    "plt.subplot(4, 1, 3)\n",
    "plt.plot(t, s[:,2], 'b')\n",
    "plt.ylabel('${V} \\;(mV)$')\n",
    "plt.xlabel('$t (s)$')\n",
    "plt.grid()\n",
    "\n",
    "plt.subplot(4, 1, 4)\n",
    "plt.plot(t, s[:,3], 'b')\n",
    "plt.ylabel('${V} \\;(mV)$')\n",
    "plt.xlabel('t (s)')\n",
    "plt.grid()\n",
    "plt.show()"
   ]
  }
 ],
 "metadata": {
  "kernelspec": {
   "display_name": "Python 3",
   "language": "python",
   "name": "python3"
  },
  "language_info": {
   "codemirror_mode": {
    "name": "ipython",
    "version": 3
   },
   "file_extension": ".py",
   "mimetype": "text/x-python",
   "name": "python",
   "nbconvert_exporter": "python",
   "pygments_lexer": "ipython3",
   "version": "3.7.6"
  },
  "pycharm": {
   "stem_cell": {
    "cell_type": "raw",
    "metadata": {
     "collapsed": false
    },
    "source": []
   }
  }
 },
 "nbformat": 4,
 "nbformat_minor": 1
}
